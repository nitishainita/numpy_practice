{
  "cells": [
    {
      "cell_type": "markdown",
      "metadata": {
        "id": "view-in-github",
        "colab_type": "text"
      },
      "source": [
        "<a href=\"https://colab.research.google.com/github/nitishainita/numpy_practice/blob/main/Random_sampling_with_numpy.ipynb\" target=\"_parent\"><img src=\"https://colab.research.google.com/assets/colab-badge.svg\" alt=\"Open In Colab\"/></a>"
      ]
    },
    {
      "cell_type": "code",
      "execution_count": 1,
      "id": "58f16976",
      "metadata": {
        "id": "58f16976"
      },
      "outputs": [],
      "source": [
        "import numpy as np\n",
        "import random"
      ]
    },
    {
      "cell_type": "code",
      "execution_count": 2,
      "id": "23b99147",
      "metadata": {
        "colab": {
          "base_uri": "https://localhost:8080/"
        },
        "id": "23b99147",
        "outputId": "8007a552-a685-41ea-fa15-c92573d4170a"
      },
      "outputs": [
        {
          "output_type": "execute_result",
          "data": {
            "text/plain": [
              "array([0.36134321])"
            ]
          },
          "metadata": {},
          "execution_count": 2
        }
      ],
      "source": [
        "np.random.random(1)"
      ]
    },
    {
      "cell_type": "markdown",
      "id": "0de9411b",
      "metadata": {
        "id": "0de9411b"
      },
      "source": [
        "### for 2d random array values between 0 and 1"
      ]
    },
    {
      "cell_type": "code",
      "execution_count": 3,
      "id": "0d547285",
      "metadata": {
        "colab": {
          "base_uri": "https://localhost:8080/"
        },
        "id": "0d547285",
        "outputId": "f3e8e177-5c68-4ae5-d359-890098f857ef"
      },
      "outputs": [
        {
          "output_type": "execute_result",
          "data": {
            "text/plain": [
              "array([[0.38230005, 0.94929526, 0.84182878],\n",
              "       [0.00234923, 0.13673182, 0.70447448],\n",
              "       [0.74624019, 0.07949023, 0.91895605]])"
            ]
          },
          "metadata": {},
          "execution_count": 3
        }
      ],
      "source": [
        "np.random.random((3,3))"
      ]
    },
    {
      "cell_type": "markdown",
      "id": "1dcd8bfa",
      "metadata": {
        "id": "1dcd8bfa"
      },
      "source": [
        "### for given rannge"
      ]
    },
    {
      "cell_type": "code",
      "execution_count": 4,
      "id": "0eb117af",
      "metadata": {
        "colab": {
          "base_uri": "https://localhost:8080/"
        },
        "id": "0eb117af",
        "outputId": "ee2241ae-d470-4c3d-9d37-59d3a8c79ec9"
      },
      "outputs": [
        {
          "output_type": "execute_result",
          "data": {
            "text/plain": [
              "2"
            ]
          },
          "metadata": {},
          "execution_count": 4
        }
      ],
      "source": [
        "np.random.randint(1,4)"
      ]
    },
    {
      "cell_type": "code",
      "execution_count": 5,
      "id": "1ec7ac60",
      "metadata": {
        "colab": {
          "base_uri": "https://localhost:8080/"
        },
        "id": "1ec7ac60",
        "outputId": "6aaf227c-df7b-42a1-8f4f-4cc15f5574de"
      },
      "outputs": [
        {
          "output_type": "execute_result",
          "data": {
            "text/plain": [
              "array([[3, 1, 1, 1],\n",
              "       [1, 1, 1, 1],\n",
              "       [3, 1, 1, 1],\n",
              "       [2, 1, 2, 2]])"
            ]
          },
          "metadata": {},
          "execution_count": 5
        }
      ],
      "source": [
        "np.random.randint(1,4,(4,4))"
      ]
    },
    {
      "cell_type": "code",
      "execution_count": 6,
      "id": "c1398772",
      "metadata": {
        "colab": {
          "base_uri": "https://localhost:8080/"
        },
        "id": "c1398772",
        "outputId": "cd1c540e-4ec5-4996-d659-8dc2e99c7d74"
      },
      "outputs": [
        {
          "output_type": "execute_result",
          "data": {
            "text/plain": [
              "array([[[2, 1, 3, 3],\n",
              "        [1, 1, 1, 1],\n",
              "        [2, 3, 1, 1],\n",
              "        [2, 1, 1, 1]],\n",
              "\n",
              "       [[2, 2, 3, 3],\n",
              "        [2, 2, 1, 3],\n",
              "        [1, 1, 3, 2],\n",
              "        [1, 2, 2, 1]]])"
            ]
          },
          "metadata": {},
          "execution_count": 6
        }
      ],
      "source": [
        "np.random.randint(1,4,(2,4,4))"
      ]
    },
    {
      "cell_type": "markdown",
      "id": "c771b235",
      "metadata": {
        "id": "c771b235"
      },
      "source": [
        "## Seed value is used for remembering the random numbers for future use and value must be in between 0 to 2**32-1"
      ]
    },
    {
      "cell_type": "code",
      "execution_count": 7,
      "id": "e9628662",
      "metadata": {
        "colab": {
          "base_uri": "https://localhost:8080/"
        },
        "id": "e9628662",
        "outputId": "dc9c6b92-1e8d-41de-9449-3aa5a2b8b339"
      },
      "outputs": [
        {
          "output_type": "execute_result",
          "data": {
            "text/plain": [
              "array([[[2, 2, 1, 1],\n",
              "        [2, 1, 2, 2],\n",
              "        [1, 2, 2, 3],\n",
              "        [1, 2, 1, 3]],\n",
              "\n",
              "       [[1, 3, 1, 1],\n",
              "        [1, 3, 1, 3],\n",
              "        [3, 2, 1, 1],\n",
              "        [3, 2, 3, 2]]])"
            ]
          },
          "metadata": {},
          "execution_count": 7
        }
      ],
      "source": [
        "np.random.seed(10)\n",
        "np.random.randint(1,4,(2,4,4))"
      ]
    },
    {
      "cell_type": "code",
      "execution_count": 8,
      "id": "aa8355d7",
      "metadata": {
        "colab": {
          "base_uri": "https://localhost:8080/"
        },
        "id": "aa8355d7",
        "outputId": "97a60cd7-5872-470d-8aee-671ec5ee0ab7"
      },
      "outputs": [
        {
          "output_type": "execute_result",
          "data": {
            "text/plain": [
              "array([[[2, 2, 1, 1],\n",
              "        [2, 1, 2, 2],\n",
              "        [1, 2, 2, 3],\n",
              "        [1, 2, 1, 3]],\n",
              "\n",
              "       [[1, 3, 1, 1],\n",
              "        [1, 3, 1, 3],\n",
              "        [3, 2, 1, 1],\n",
              "        [3, 2, 3, 2]]])"
            ]
          },
          "metadata": {},
          "execution_count": 8
        }
      ],
      "source": [
        "np.random.seed(10)\n",
        "np.random.randint(1,4,(2,4,4))"
      ]
    },
    {
      "cell_type": "markdown",
      "id": "d5921c90",
      "metadata": {
        "id": "d5921c90"
      },
      "source": [
        "### for creating nd array using rand function"
      ]
    },
    {
      "cell_type": "code",
      "execution_count": 9,
      "id": "d2342eb9",
      "metadata": {
        "colab": {
          "base_uri": "https://localhost:8080/"
        },
        "id": "d2342eb9",
        "outputId": "c68eccd0-2a49-4fa0-ad1f-5ff79159ed9d"
      },
      "outputs": [
        {
          "output_type": "execute_result",
          "data": {
            "text/plain": [
              "array([0.13145815, 0.41366737, 0.77872881])"
            ]
          },
          "metadata": {},
          "execution_count": 9
        }
      ],
      "source": [
        "np.random.rand(3)#going to get values between 0 to 1"
      ]
    },
    {
      "cell_type": "code",
      "execution_count": 10,
      "id": "78ea0376",
      "metadata": {
        "colab": {
          "base_uri": "https://localhost:8080/"
        },
        "id": "78ea0376",
        "outputId": "a8a44787-2472-4e1a-b2ed-91d542d78551"
      },
      "outputs": [
        {
          "output_type": "execute_result",
          "data": {
            "text/plain": [
              "array([[0.58390137, 0.18263144, 0.82608225],\n",
              "       [0.10540183, 0.28357668, 0.06556327],\n",
              "       [0.05644419, 0.76545582, 0.01178803]])"
            ]
          },
          "metadata": {},
          "execution_count": 10
        }
      ],
      "source": [
        "np.random.rand(3,3)"
      ]
    },
    {
      "cell_type": "code",
      "execution_count": 11,
      "id": "4d8076e3",
      "metadata": {
        "colab": {
          "base_uri": "https://localhost:8080/"
        },
        "id": "4d8076e3",
        "outputId": "b862f8b9-a7ca-4bea-beb7-eeaf7c36a912"
      },
      "outputs": [
        {
          "output_type": "execute_result",
          "data": {
            "text/plain": [
              "array([[-1.58494101,  1.05535316, -1.92657911],\n",
              "       [ 0.69858388, -0.74620143, -0.15662666],\n",
              "       [-0.19363594,  1.13912535,  0.36221796]])"
            ]
          },
          "metadata": {},
          "execution_count": 11
        }
      ],
      "source": [
        "np.random.randn(3,3)#going to get negative and positive values as standered normal distribution"
      ]
    },
    {
      "cell_type": "code",
      "execution_count": 12,
      "id": "c34b7b83",
      "metadata": {
        "colab": {
          "base_uri": "https://localhost:8080/"
        },
        "id": "c34b7b83",
        "outputId": "d9356078-3612-4ed0-ac10-41130e80c318"
      },
      "outputs": [
        {
          "output_type": "execute_result",
          "data": {
            "text/plain": [
              "1"
            ]
          },
          "metadata": {},
          "execution_count": 12
        }
      ],
      "source": [
        "x=[1,2,3,4,5,6]\n",
        "np.random.choice(x)"
      ]
    },
    {
      "cell_type": "code",
      "execution_count": 13,
      "id": "48cfa91e",
      "metadata": {
        "colab": {
          "base_uri": "https://localhost:8080/"
        },
        "id": "48cfa91e",
        "outputId": "c40ebf12-2351-4b2c-b709-df6dc214b619"
      },
      "outputs": [
        {
          "output_type": "stream",
          "name": "stdout",
          "text": [
            "1\n",
            "5\n",
            "6\n",
            "5\n",
            "1\n",
            "1\n",
            "3\n",
            "5\n",
            "3\n",
            "1\n"
          ]
        }
      ],
      "source": [
        "for i in range(10):\n",
        "    print(np.random.choice(x))"
      ]
    },
    {
      "cell_type": "code",
      "execution_count": 14,
      "id": "847c28f4",
      "metadata": {
        "colab": {
          "base_uri": "https://localhost:8080/"
        },
        "id": "847c28f4",
        "outputId": "46f056a0-e6f7-4dab-d339-5c3ee562e1df"
      },
      "outputs": [
        {
          "output_type": "execute_result",
          "data": {
            "text/plain": [
              "array([3, 5, 2, 4, 1, 6])"
            ]
          },
          "metadata": {},
          "execution_count": 14
        }
      ],
      "source": [
        "np.random.permutation(x)"
      ]
    },
    {
      "cell_type": "code",
      "execution_count": 15,
      "id": "6d3311d7",
      "metadata": {
        "colab": {
          "base_uri": "https://localhost:8080/"
        },
        "id": "6d3311d7",
        "outputId": "857218c3-c852-4459-c862-1e2fc196f166"
      },
      "outputs": [
        {
          "output_type": "execute_result",
          "data": {
            "text/plain": [
              "array([2, 4, 1, 5, 3, 6])"
            ]
          },
          "metadata": {},
          "execution_count": 15
        }
      ],
      "source": [
        "np.random.permutation(x)"
      ]
    }
  ],
  "metadata": {
    "kernelspec": {
      "display_name": "Python 3 (ipykernel)",
      "language": "python",
      "name": "python3"
    },
    "language_info": {
      "codemirror_mode": {
        "name": "ipython",
        "version": 3
      },
      "file_extension": ".py",
      "mimetype": "text/x-python",
      "name": "python",
      "nbconvert_exporter": "python",
      "pygments_lexer": "ipython3",
      "version": "3.9.7"
    },
    "colab": {
      "provenance": [],
      "include_colab_link": true
    }
  },
  "nbformat": 4,
  "nbformat_minor": 5
}