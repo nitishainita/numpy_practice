{
  "cells": [
    {
      "cell_type": "markdown",
      "metadata": {
        "id": "view-in-github",
        "colab_type": "text"
      },
      "source": [
        "<a href=\"https://colab.research.google.com/github/nitishainita/numpy_practice/blob/main/Numpy_string.ipynb\" target=\"_parent\"><img src=\"https://colab.research.google.com/assets/colab-badge.svg\" alt=\"Open In Colab\"/></a>"
      ]
    },
    {
      "cell_type": "markdown",
      "id": "ffba8ec0",
      "metadata": {
        "id": "ffba8ec0"
      },
      "source": [
        "## String operations, comparison and information"
      ]
    },
    {
      "cell_type": "code",
      "execution_count": 16,
      "id": "7ed6df06",
      "metadata": {
        "id": "7ed6df06"
      },
      "outputs": [],
      "source": [
        "import numpy as np"
      ]
    },
    {
      "cell_type": "code",
      "execution_count": 17,
      "id": "d628b37c",
      "metadata": {
        "id": "d628b37c"
      },
      "outputs": [],
      "source": [
        "ch_name=\"Nitish_Kumar\"\n",
        "str1=\" Learning python numpy\""
      ]
    },
    {
      "cell_type": "code",
      "execution_count": 18,
      "id": "99b60ca5",
      "metadata": {
        "colab": {
          "base_uri": "https://localhost:8080/"
        },
        "id": "99b60ca5",
        "outputId": "71db3d8f-ea21-4d68-9e0f-15b0497f89ab"
      },
      "outputs": [
        {
          "output_type": "execute_result",
          "data": {
            "text/plain": [
              "array('Nitish_Kumar Learning python numpy', dtype='<U34')"
            ]
          },
          "metadata": {},
          "execution_count": 18
        }
      ],
      "source": [
        "np.char.add(ch_name, str1)"
      ]
    },
    {
      "cell_type": "code",
      "execution_count": 19,
      "id": "8f7f1cb0",
      "metadata": {
        "colab": {
          "base_uri": "https://localhost:8080/"
        },
        "id": "8f7f1cb0",
        "outputId": "07d83559-d77c-4e61-c46c-9881fa28bc6c"
      },
      "outputs": [
        {
          "output_type": "execute_result",
          "data": {
            "text/plain": [
              "array('NITISH_KUMAR', dtype='<U12')"
            ]
          },
          "metadata": {},
          "execution_count": 19
        }
      ],
      "source": [
        "np.char.upper(ch_name)"
      ]
    },
    {
      "cell_type": "code",
      "execution_count": 20,
      "id": "b306182c",
      "metadata": {
        "colab": {
          "base_uri": "https://localhost:8080/"
        },
        "id": "b306182c",
        "outputId": "f1ba4eac-ebae-477c-dad0-6c51ec6aa538"
      },
      "outputs": [
        {
          "output_type": "execute_result",
          "data": {
            "text/plain": [
              "array(' learning python numpy', dtype='<U22')"
            ]
          },
          "metadata": {},
          "execution_count": 20
        }
      ],
      "source": [
        "np.char.lower(str1)"
      ]
    },
    {
      "cell_type": "code",
      "execution_count": 21,
      "id": "3590ed8e",
      "metadata": {
        "colab": {
          "base_uri": "https://localhost:8080/"
        },
        "id": "3590ed8e",
        "outputId": "bffd59a0-ff1f-4e7b-f0ab-7bf7a3fb8a20"
      },
      "outputs": [
        {
          "output_type": "execute_result",
          "data": {
            "text/plain": [
              "array('******************* Learning python numpy*******************',\n",
              "      dtype='<U60')"
            ]
          },
          "metadata": {},
          "execution_count": 21
        }
      ],
      "source": [
        "np.char.center(str1, 60,fillchar='*')"
      ]
    },
    {
      "cell_type": "code",
      "execution_count": 22,
      "id": "51496135",
      "metadata": {
        "colab": {
          "base_uri": "https://localhost:8080/"
        },
        "id": "51496135",
        "outputId": "b0e7eccb-a825-49a6-b69e-9305b21e5d69"
      },
      "outputs": [
        {
          "output_type": "execute_result",
          "data": {
            "text/plain": [
              "array(list(['Nitish_Kumar']), dtype=object)"
            ]
          },
          "metadata": {},
          "execution_count": 22
        }
      ],
      "source": [
        "np.char.split(ch_name)"
      ]
    },
    {
      "cell_type": "code",
      "execution_count": 23,
      "id": "640cc31b",
      "metadata": {
        "colab": {
          "base_uri": "https://localhost:8080/"
        },
        "id": "640cc31b",
        "outputId": "b28f3744-2f7a-417a-838b-5de2072cd6ba"
      },
      "outputs": [
        {
          "output_type": "execute_result",
          "data": {
            "text/plain": [
              "array(list(['Hello', 'Indian']), dtype=object)"
            ]
          },
          "metadata": {},
          "execution_count": 23
        }
      ],
      "source": [
        "np.char.splitlines(\"Hello\\nIndian\")"
      ]
    },
    {
      "cell_type": "markdown",
      "id": "51ee8160",
      "metadata": {
        "id": "51ee8160"
      },
      "source": [
        "### for join method"
      ]
    },
    {
      "cell_type": "code",
      "execution_count": 24,
      "id": "bca15954",
      "metadata": {
        "id": "bca15954"
      },
      "outputs": [],
      "source": [
        "str4=\"dmy\"\n",
        "str5=\"dmy\""
      ]
    },
    {
      "cell_type": "code",
      "execution_count": 25,
      "id": "37321089",
      "metadata": {
        "colab": {
          "base_uri": "https://localhost:8080/"
        },
        "id": "37321089",
        "outputId": "59d6f9ce-87b8-4ade-90de-7f7879ec610e"
      },
      "outputs": [
        {
          "output_type": "execute_result",
          "data": {
            "text/plain": [
              "array(['d:m:y', 'd/m/y'], dtype='<U5')"
            ]
          },
          "metadata": {},
          "execution_count": 25
        }
      ],
      "source": [
        "np.char.join([':','/'],[str4,str5])"
      ]
    },
    {
      "cell_type": "code",
      "execution_count": 26,
      "id": "1609a738",
      "metadata": {
        "colab": {
          "base_uri": "https://localhost:8080/"
        },
        "id": "1609a738",
        "outputId": "2839db5e-de35-4a82-c7b5-37f3bee62ac3"
      },
      "outputs": [
        {
          "output_type": "execute_result",
          "data": {
            "text/plain": [
              "array('Nitish_Kumar', dtype='<U12')"
            ]
          },
          "metadata": {},
          "execution_count": 26
        }
      ],
      "source": [
        "np.char.replace(ch_name,'Ai','Artificial Intelligence')"
      ]
    },
    {
      "cell_type": "code",
      "execution_count": 27,
      "id": "8106da54",
      "metadata": {
        "colab": {
          "base_uri": "https://localhost:8080/"
        },
        "id": "8106da54",
        "outputId": "98b4e5b9-2e9a-496d-cfee-85e35c860c01"
      },
      "outputs": [
        {
          "output_type": "execute_result",
          "data": {
            "text/plain": [
              "array(True)"
            ]
          },
          "metadata": {},
          "execution_count": 27
        }
      ],
      "source": [
        "np.char.equal(str4,str5)#noequal,lessequal etc can be used"
      ]
    },
    {
      "cell_type": "code",
      "execution_count": 28,
      "id": "598d9231",
      "metadata": {
        "colab": {
          "base_uri": "https://localhost:8080/"
        },
        "id": "598d9231",
        "outputId": "75f24da9-8669-4d5f-abd7-81630b763670"
      },
      "outputs": [
        {
          "output_type": "execute_result",
          "data": {
            "text/plain": [
              "array(1)"
            ]
          },
          "metadata": {},
          "execution_count": 28
        }
      ],
      "source": [
        "np.char.count(ch_name,\"a\")"
      ]
    },
    {
      "cell_type": "code",
      "execution_count": 29,
      "id": "50665caa",
      "metadata": {
        "colab": {
          "base_uri": "https://localhost:8080/"
        },
        "id": "50665caa",
        "outputId": "35feb089-8592-4564-a6f0-faa9417f445f"
      },
      "outputs": [
        {
          "output_type": "execute_result",
          "data": {
            "text/plain": [
              "array(0)"
            ]
          },
          "metadata": {},
          "execution_count": 29
        }
      ],
      "source": [
        "np.char.count(ch_name,\"o\")"
      ]
    },
    {
      "cell_type": "code",
      "execution_count": 30,
      "id": "4d4dd3a4",
      "metadata": {
        "colab": {
          "base_uri": "https://localhost:8080/"
        },
        "id": "4d4dd3a4",
        "outputId": "d636bbb3-3e30-4cbd-8d05-2f96089c71ba"
      },
      "outputs": [
        {
          "output_type": "execute_result",
          "data": {
            "text/plain": [
              "array(-1)"
            ]
          },
          "metadata": {},
          "execution_count": 30
        }
      ],
      "source": [
        "np.char.find(ch_name,'Ai')"
      ]
    }
  ],
  "metadata": {
    "kernelspec": {
      "display_name": "Python 3 (ipykernel)",
      "language": "python",
      "name": "python3"
    },
    "language_info": {
      "codemirror_mode": {
        "name": "ipython",
        "version": 3
      },
      "file_extension": ".py",
      "mimetype": "text/x-python",
      "name": "python",
      "nbconvert_exporter": "python",
      "pygments_lexer": "ipython3",
      "version": "3.9.7"
    },
    "colab": {
      "provenance": [],
      "include_colab_link": true
    }
  },
  "nbformat": 4,
  "nbformat_minor": 5
}
