{
  "cells": [
    {
      "cell_type": "markdown",
      "metadata": {
        "id": "view-in-github",
        "colab_type": "text"
      },
      "source": [
        "<a href=\"https://colab.research.google.com/github/nitishainita/numpy_practice/blob/main/Python_Numpy_Array_slicing.ipynb\" target=\"_parent\"><img src=\"https://colab.research.google.com/assets/colab-badge.svg\" alt=\"Open In Colab\"/></a>"
      ]
    },
    {
      "cell_type": "code",
      "execution_count": null,
      "id": "e3a05094",
      "metadata": {
        "id": "e3a05094"
      },
      "outputs": [],
      "source": [
        "import numpy as np"
      ]
    },
    {
      "cell_type": "code",
      "execution_count": null,
      "id": "2bfb6c38",
      "metadata": {
        "id": "2bfb6c38",
        "outputId": "51d0e073-cf3c-470d-c3b8-a6360f22b390"
      },
      "outputs": [
        {
          "data": {
            "text/plain": [
              "array([[  1,   2,   3,   4,   5,   6,   7,   8,   9,  10],\n",
              "       [ 11,  12,  13,  14,  15,  16,  17,  18,  19,  20],\n",
              "       [ 21,  22,  23,  24,  25,  26,  27,  28,  29,  30],\n",
              "       [ 31,  32,  33,  34,  35,  36,  37,  38,  39,  40],\n",
              "       [ 41,  42,  43,  44,  45,  46,  47,  48,  49,  50],\n",
              "       [ 51,  52,  53,  54,  55,  56,  57,  58,  59,  60],\n",
              "       [ 61,  62,  63,  64,  65,  66,  67,  68,  69,  70],\n",
              "       [ 71,  72,  73,  74,  75,  76,  77,  78,  79,  80],\n",
              "       [ 81,  82,  83,  84,  85,  86,  87,  88,  89,  90],\n",
              "       [ 91,  92,  93,  94,  95,  96,  97,  98,  99, 100]])"
            ]
          },
          "execution_count": 2,
          "metadata": {},
          "output_type": "execute_result"
        }
      ],
      "source": [
        "mx=np.arange(1,101).reshape(10,10)\n",
        "mx"
      ]
    },
    {
      "cell_type": "markdown",
      "id": "c94a5129",
      "metadata": {
        "id": "c94a5129"
      },
      "source": [
        "### for obtaining element 1"
      ]
    },
    {
      "cell_type": "code",
      "execution_count": null,
      "id": "21a96030",
      "metadata": {
        "id": "21a96030",
        "outputId": "8049fe12-a7eb-451f-8536-dae116bf63b6"
      },
      "outputs": [
        {
          "data": {
            "text/plain": [
              "1"
            ]
          },
          "execution_count": 3,
          "metadata": {},
          "output_type": "execute_result"
        }
      ],
      "source": [
        "mx[0,0]"
      ]
    },
    {
      "cell_type": "code",
      "execution_count": null,
      "id": "20c6a55a",
      "metadata": {
        "id": "20c6a55a",
        "outputId": "f0381686-5d41-4fc2-bd24-a1cd13f76e2e"
      },
      "outputs": [
        {
          "data": {
            "text/plain": [
              "0"
            ]
          },
          "execution_count": 4,
          "metadata": {},
          "output_type": "execute_result"
        }
      ],
      "source": [
        "mx[0,0].ndim"
      ]
    },
    {
      "cell_type": "code",
      "execution_count": null,
      "id": "c5da57f1",
      "metadata": {
        "id": "c5da57f1",
        "outputId": "114ec0d2-4df1-441f-ab32-14f0fb8270dd"
      },
      "outputs": [
        {
          "data": {
            "text/plain": [
              "array([[ 1,  2,  3,  4,  5,  6,  7,  8,  9, 10]])"
            ]
          },
          "execution_count": 5,
          "metadata": {},
          "output_type": "execute_result"
        }
      ],
      "source": [
        "# for first row\n",
        "mx[0:1]"
      ]
    },
    {
      "cell_type": "markdown",
      "id": "baf95542",
      "metadata": {
        "id": "baf95542"
      },
      "source": [
        "### for first column"
      ]
    },
    {
      "cell_type": "code",
      "execution_count": null,
      "id": "0b677428",
      "metadata": {
        "id": "0b677428",
        "outputId": "2d9459f6-4aa7-4552-ef3a-7b8a9041cec8"
      },
      "outputs": [
        {
          "data": {
            "text/plain": [
              "array([[ 1],\n",
              "       [11],\n",
              "       [21],\n",
              "       [31],\n",
              "       [41],\n",
              "       [51],\n",
              "       [61],\n",
              "       [71],\n",
              "       [81],\n",
              "       [91]])"
            ]
          },
          "execution_count": 7,
          "metadata": {},
          "output_type": "execute_result"
        }
      ],
      "source": [
        "mx[0: ,0:1]"
      ]
    },
    {
      "cell_type": "code",
      "execution_count": null,
      "id": "4438f27a",
      "metadata": {
        "id": "4438f27a",
        "outputId": "c2150a9e-29ea-40e6-c552-b4b429182e79"
      },
      "outputs": [
        {
          "data": {
            "text/plain": [
              "array([ 1, 11, 21, 31, 41, 51, 61, 71, 81, 91])"
            ]
          },
          "execution_count": 8,
          "metadata": {},
          "output_type": "execute_result"
        }
      ],
      "source": [
        "mx[:,0]"
      ]
    },
    {
      "cell_type": "code",
      "execution_count": null,
      "id": "183a1a25",
      "metadata": {
        "id": "183a1a25",
        "outputId": "dff913ae-8443-4b78-afc0-7f63d238d4bf"
      },
      "outputs": [
        {
          "data": {
            "text/plain": [
              "2"
            ]
          },
          "execution_count": 11,
          "metadata": {},
          "output_type": "execute_result"
        }
      ],
      "source": [
        "mx[:,0:1].ndim"
      ]
    },
    {
      "cell_type": "code",
      "execution_count": null,
      "id": "e6ff7da5",
      "metadata": {
        "id": "e6ff7da5",
        "outputId": "59808d63-d141-4dd2-9e99-f71c2adb4713"
      },
      "outputs": [
        {
          "data": {
            "text/plain": [
              "array([[12, 13, 14],\n",
              "       [22, 23, 24],\n",
              "       [32, 33, 34]])"
            ]
          },
          "execution_count": 12,
          "metadata": {},
          "output_type": "execute_result"
        }
      ],
      "source": [
        "mx[1:4,1:4]"
      ]
    },
    {
      "cell_type": "code",
      "execution_count": null,
      "id": "b30f34b9",
      "metadata": {
        "id": "b30f34b9",
        "outputId": "4b0e390e-746a-476d-8905-0f1100b07479"
      },
      "outputs": [
        {
          "data": {
            "text/plain": [
              "array([[ 2,  3],\n",
              "       [12, 13],\n",
              "       [22, 23],\n",
              "       [32, 33],\n",
              "       [42, 43],\n",
              "       [52, 53],\n",
              "       [62, 63],\n",
              "       [72, 73],\n",
              "       [82, 83],\n",
              "       [92, 93]])"
            ]
          },
          "execution_count": 13,
          "metadata": {},
          "output_type": "execute_result"
        }
      ],
      "source": [
        "mx[:,1:3]"
      ]
    },
    {
      "cell_type": "code",
      "execution_count": null,
      "id": "579b890e",
      "metadata": {
        "id": "579b890e",
        "outputId": "6abdf247-c1a7-46c6-b7fa-f7044f10c4dc"
      },
      "outputs": [
        {
          "data": {
            "text/plain": [
              "2"
            ]
          },
          "execution_count": 14,
          "metadata": {},
          "output_type": "execute_result"
        }
      ],
      "source": [
        "mx[:,1:3].ndim"
      ]
    },
    {
      "cell_type": "code",
      "execution_count": null,
      "id": "a617dce4",
      "metadata": {
        "id": "a617dce4",
        "outputId": "7ddb573c-7d71-408b-d7a4-661928b617b1"
      },
      "outputs": [
        {
          "data": {
            "text/plain": [
              "8"
            ]
          },
          "execution_count": 16,
          "metadata": {},
          "output_type": "execute_result"
        }
      ],
      "source": [
        "#for item size in byte\n",
        "mx.itemsize"
      ]
    },
    {
      "cell_type": "code",
      "execution_count": null,
      "id": "543afd0b",
      "metadata": {
        "id": "543afd0b",
        "outputId": "7d8eff52-457d-486a-da62-d385c7e6e84e"
      },
      "outputs": [
        {
          "data": {
            "text/plain": [
              "dtype('int64')"
            ]
          },
          "execution_count": 17,
          "metadata": {},
          "output_type": "execute_result"
        }
      ],
      "source": [
        "mx.dtype"
      ]
    },
    {
      "cell_type": "code",
      "execution_count": null,
      "id": "3991e45a",
      "metadata": {
        "id": "3991e45a",
        "outputId": "70bd76d6-9a40-44e9-dab1-faf91462b510"
      },
      "outputs": [
        {
          "data": {
            "text/plain": [
              "array([[  1,   2,   3,   4,   5,   6,   7,   8,   9,  10],\n",
              "       [ 11,  12,  13,  14,  15,  16,  17,  18,  19,  20],\n",
              "       [ 21,  22,  23,  24,  25,  26,  27,  28,  29,  30],\n",
              "       [ 31,  32,  33,  34,  35,  36,  37,  38,  39,  40],\n",
              "       [ 41,  42,  43,  44,  45,  46,  47,  48,  49,  50],\n",
              "       [ 51,  52,  53,  54,  55,  56,  57,  58,  59,  60],\n",
              "       [ 61,  62,  63,  64,  65,  66,  67,  68,  69,  70],\n",
              "       [ 71,  72,  73,  74,  75,  76,  77,  78,  79,  80],\n",
              "       [ 81,  82,  83,  84,  85,  86,  87,  88,  89,  90],\n",
              "       [ 91,  92,  93,  94,  95,  96,  97,  98,  99, 100]])"
            ]
          },
          "execution_count": 18,
          "metadata": {},
          "output_type": "execute_result"
        }
      ],
      "source": [
        "mx"
      ]
    },
    {
      "cell_type": "code",
      "execution_count": null,
      "id": "dfd85697",
      "metadata": {
        "id": "dfd85697"
      },
      "outputs": [],
      "source": []
    }
  ],
  "metadata": {
    "kernelspec": {
      "display_name": "Python 3 (ipykernel)",
      "language": "python",
      "name": "python3"
    },
    "language_info": {
      "codemirror_mode": {
        "name": "ipython",
        "version": 3
      },
      "file_extension": ".py",
      "mimetype": "text/x-python",
      "name": "python",
      "nbconvert_exporter": "python",
      "pygments_lexer": "ipython3",
      "version": "3.9.7"
    },
    "colab": {
      "provenance": [],
      "include_colab_link": true
    }
  },
  "nbformat": 4,
  "nbformat_minor": 5
}