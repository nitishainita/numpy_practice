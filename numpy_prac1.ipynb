{
  "cells": [
    {
      "cell_type": "markdown",
      "metadata": {
        "id": "view-in-github",
        "colab_type": "text"
      },
      "source": [
        "<a href=\"https://colab.research.google.com/github/nitishainita/numpy_practice/blob/main/numpy_prac1.ipynb\" target=\"_parent\"><img src=\"https://colab.research.google.com/assets/colab-badge.svg\" alt=\"Open In Colab\"/></a>"
      ]
    },
    {
      "cell_type": "code",
      "execution_count": null,
      "id": "16a069de",
      "metadata": {
        "id": "16a069de"
      },
      "outputs": [],
      "source": [
        "import numpy as np"
      ]
    },
    {
      "cell_type": "code",
      "execution_count": null,
      "id": "b4f6bf9f",
      "metadata": {
        "id": "b4f6bf9f",
        "outputId": "8536bcb6-7786-4582-9f99-62df2a841cc7"
      },
      "outputs": [
        {
          "name": "stdout",
          "output_type": "stream",
          "text": [
            "[1 2 3 4]\n"
          ]
        }
      ],
      "source": [
        "arr_1d=np.array([1,2,3,4])\n",
        "print(arr_1d)"
      ]
    },
    {
      "cell_type": "code",
      "execution_count": null,
      "id": "868479cc",
      "metadata": {
        "id": "868479cc",
        "outputId": "ad03af09-151f-4d09-88b7-6befda3fbb31"
      },
      "outputs": [
        {
          "data": {
            "text/plain": [
              "numpy.ndarray"
            ]
          },
          "execution_count": 6,
          "metadata": {},
          "output_type": "execute_result"
        }
      ],
      "source": [
        "type(arr_1d)"
      ]
    },
    {
      "cell_type": "code",
      "execution_count": null,
      "id": "ef9ad8c5",
      "metadata": {
        "id": "ef9ad8c5",
        "outputId": "e0f89f15-594c-476d-e294-841e08609772"
      },
      "outputs": [
        {
          "data": {
            "text/plain": [
              "1"
            ]
          },
          "execution_count": 7,
          "metadata": {},
          "output_type": "execute_result"
        }
      ],
      "source": [
        "arr_1d.ndim"
      ]
    },
    {
      "cell_type": "code",
      "execution_count": null,
      "id": "5461d92e",
      "metadata": {
        "id": "5461d92e",
        "outputId": "7c16859c-cfa9-400f-d4a5-d8f67849139f"
      },
      "outputs": [
        {
          "name": "stdout",
          "output_type": "stream",
          "text": [
            "[[1 2 3 4]\n",
            " [5 6 7 8]]\n"
          ]
        }
      ],
      "source": [
        "arr_2d=np.array([[1,2,3,4],[5,6,7,8]])\n",
        "print(arr_2d)"
      ]
    },
    {
      "cell_type": "code",
      "execution_count": null,
      "id": "d283a018",
      "metadata": {
        "id": "d283a018",
        "outputId": "192109c8-5b87-4c1c-dc7c-394193719bad"
      },
      "outputs": [
        {
          "data": {
            "text/plain": [
              "8"
            ]
          },
          "execution_count": 11,
          "metadata": {},
          "output_type": "execute_result"
        }
      ],
      "source": [
        "arr_2d.size"
      ]
    },
    {
      "cell_type": "code",
      "execution_count": null,
      "id": "be44b623",
      "metadata": {
        "id": "be44b623",
        "outputId": "9e86b7d5-ba3c-4046-e6cf-9320efb0de0f"
      },
      "outputs": [
        {
          "data": {
            "text/plain": [
              "(2, 4)"
            ]
          },
          "execution_count": 12,
          "metadata": {},
          "output_type": "execute_result"
        }
      ],
      "source": [
        "arr_2d.shape"
      ]
    },
    {
      "cell_type": "code",
      "execution_count": null,
      "id": "702b7af6",
      "metadata": {
        "id": "702b7af6"
      },
      "outputs": [],
      "source": []
    }
  ],
  "metadata": {
    "kernelspec": {
      "display_name": "Python 3 (ipykernel)",
      "language": "python",
      "name": "python3"
    },
    "language_info": {
      "codemirror_mode": {
        "name": "ipython",
        "version": 3
      },
      "file_extension": ".py",
      "mimetype": "text/x-python",
      "name": "python",
      "nbconvert_exporter": "python",
      "pygments_lexer": "ipython3",
      "version": "3.9.7"
    },
    "colab": {
      "provenance": [],
      "include_colab_link": true
    }
  },
  "nbformat": 4,
  "nbformat_minor": 5
}