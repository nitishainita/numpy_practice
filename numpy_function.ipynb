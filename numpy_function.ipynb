{
  "cells": [
    {
      "cell_type": "markdown",
      "metadata": {
        "id": "view-in-github",
        "colab_type": "text"
      },
      "source": [
        "<a href=\"https://colab.research.google.com/github/nitishainita/numpy_practice/blob/main/numpy_function.ipynb\" target=\"_parent\"><img src=\"https://colab.research.google.com/assets/colab-badge.svg\" alt=\"Open In Colab\"/></a>"
      ]
    },
    {
      "cell_type": "markdown",
      "id": "856fdd1c",
      "metadata": {
        "id": "856fdd1c"
      },
      "source": [
        "### NumPy functions"
      ]
    },
    {
      "cell_type": "code",
      "execution_count": 1,
      "id": "4730a6c0",
      "metadata": {
        "id": "4730a6c0"
      },
      "outputs": [],
      "source": [
        "import numpy as np"
      ]
    },
    {
      "cell_type": "markdown",
      "id": "92ed2b59",
      "metadata": {
        "id": "92ed2b59"
      },
      "source": [
        "### arange()"
      ]
    },
    {
      "cell_type": "code",
      "execution_count": 2,
      "id": "55b20f02",
      "metadata": {
        "colab": {
          "base_uri": "https://localhost:8080/"
        },
        "id": "55b20f02",
        "outputId": "17c049a7-9e4b-4df0-f2d7-0bedacb098e2"
      },
      "outputs": [
        {
          "output_type": "stream",
          "name": "stdout",
          "text": [
            "[ 1  2  3  4  5  6  7  8  9 10 11 12]\n"
          ]
        }
      ],
      "source": [
        "ar_1d=np.arange(1,13)\n",
        "print(ar_1d)"
      ]
    },
    {
      "cell_type": "code",
      "execution_count": 3,
      "id": "5877b34e",
      "metadata": {
        "colab": {
          "base_uri": "https://localhost:8080/"
        },
        "id": "5877b34e",
        "outputId": "e5b5d2fb-4bee-413d-d6ab-ae0c3e0a2cec"
      },
      "outputs": [
        {
          "output_type": "stream",
          "name": "stdout",
          "text": [
            "[ 0  2  4  6  8 10 12]\n"
          ]
        }
      ],
      "source": [
        "# for even number aaray usnig arange function\n",
        "even_ar=np.arange(0,13,2)\n",
        "print(even_ar)"
      ]
    },
    {
      "cell_type": "markdown",
      "id": "4319c5b1",
      "metadata": {
        "id": "4319c5b1"
      },
      "source": [
        "### linsapce()"
      ]
    },
    {
      "cell_type": "code",
      "execution_count": 4,
      "id": "3cb8cfab",
      "metadata": {
        "colab": {
          "base_uri": "https://localhost:8080/"
        },
        "id": "3cb8cfab",
        "outputId": "b6fb0191-75b6-48d9-e173-f1660eaef4c3"
      },
      "outputs": [
        {
          "output_type": "stream",
          "name": "stdout",
          "text": [
            "[1.         2.33333333 3.66666667 5.        ]\n"
          ]
        }
      ],
      "source": [
        "space_ar=np.linspace(1,5,4)\n",
        "print(space_ar)"
      ]
    },
    {
      "cell_type": "markdown",
      "id": "b8b11775",
      "metadata": {
        "id": "b8b11775"
      },
      "source": [
        "### reshape()"
      ]
    },
    {
      "cell_type": "code",
      "execution_count": 5,
      "id": "d73c86ee",
      "metadata": {
        "colab": {
          "base_uri": "https://localhost:8080/"
        },
        "id": "d73c86ee",
        "outputId": "616d0842-e364-4b5e-ee70-cd96778f7c81"
      },
      "outputs": [
        {
          "output_type": "stream",
          "name": "stdout",
          "text": [
            "[[ 1  2  3  4  5  6]\n",
            " [ 7  8  9 10 11 12]]\n"
          ]
        }
      ],
      "source": [
        "ar_2d=ar_1d.reshape(2,6)\n",
        "print(ar_2d)"
      ]
    },
    {
      "cell_type": "code",
      "execution_count": 6,
      "id": "fbf12470",
      "metadata": {
        "colab": {
          "base_uri": "https://localhost:8080/"
        },
        "id": "fbf12470",
        "outputId": "2e0e3908-9247-4d3e-ebd2-03664a81c246"
      },
      "outputs": [
        {
          "output_type": "stream",
          "name": "stdout",
          "text": [
            "[[[ 1  2]\n",
            "  [ 3  4]\n",
            "  [ 5  6]]\n",
            "\n",
            " [[ 7  8]\n",
            "  [ 9 10]\n",
            "  [11 12]]]\n"
          ]
        }
      ],
      "source": [
        "ar_3d=ar_1d.reshape(2,3,2)\n",
        "print(ar_3d)"
      ]
    },
    {
      "cell_type": "code",
      "execution_count": 7,
      "id": "51b5cd46",
      "metadata": {
        "colab": {
          "base_uri": "https://localhost:8080/"
        },
        "id": "51b5cd46",
        "outputId": "80a474e4-b9db-4fb5-b734-ec24bfca0229"
      },
      "outputs": [
        {
          "output_type": "stream",
          "name": "stdout",
          "text": [
            "[[ 1  2  3  4]\n",
            " [ 5  6  7  8]\n",
            " [ 9 10 11 12]\n",
            " [13 14 15 16]]\n"
          ]
        }
      ],
      "source": [
        "ar=np.arange(1,17).reshape(4,4)\n",
        "print(ar)"
      ]
    },
    {
      "cell_type": "markdown",
      "id": "17738457",
      "metadata": {
        "id": "17738457"
      },
      "source": [
        "### for n-d to 1d array"
      ]
    },
    {
      "cell_type": "markdown",
      "id": "4cb3a18b",
      "metadata": {
        "id": "4cb3a18b"
      },
      "source": [
        "#### reval()"
      ]
    },
    {
      "cell_type": "code",
      "execution_count": 8,
      "id": "fae43f15",
      "metadata": {
        "colab": {
          "base_uri": "https://localhost:8080/"
        },
        "id": "fae43f15",
        "outputId": "af747efd-8a79-42ac-e7c0-dcee3e88cc2b"
      },
      "outputs": [
        {
          "output_type": "execute_result",
          "data": {
            "text/plain": [
              "array([ 1,  2,  3,  4,  5,  6,  7,  8,  9, 10, 11, 12, 13, 14, 15, 16])"
            ]
          },
          "metadata": {},
          "execution_count": 8
        }
      ],
      "source": [
        "ar.ravel()"
      ]
    },
    {
      "cell_type": "markdown",
      "id": "ae82a2c3",
      "metadata": {
        "id": "ae82a2c3"
      },
      "source": [
        "### flatten()"
      ]
    },
    {
      "cell_type": "code",
      "execution_count": 9,
      "id": "1a5663ac",
      "metadata": {
        "colab": {
          "base_uri": "https://localhost:8080/"
        },
        "id": "1a5663ac",
        "outputId": "032844ed-619c-41f1-e0fa-a6fa0a322541"
      },
      "outputs": [
        {
          "output_type": "execute_result",
          "data": {
            "text/plain": [
              "array([ 1,  2,  3,  4,  5,  6,  7,  8,  9, 10, 11, 12, 13, 14, 15, 16])"
            ]
          },
          "metadata": {},
          "execution_count": 9
        }
      ],
      "source": [
        "ar.flatten()"
      ]
    },
    {
      "cell_type": "code",
      "execution_count": 10,
      "id": "c5838bb8",
      "metadata": {
        "colab": {
          "base_uri": "https://localhost:8080/"
        },
        "id": "c5838bb8",
        "outputId": "e963c2fc-30ca-44ed-8a74-eeb2d293adc8"
      },
      "outputs": [
        {
          "output_type": "execute_result",
          "data": {
            "text/plain": [
              "array([[ 1,  2,  3,  4],\n",
              "       [ 5,  6,  7,  8],\n",
              "       [ 9, 10, 11, 12],\n",
              "       [13, 14, 15, 16]])"
            ]
          },
          "metadata": {},
          "execution_count": 10
        }
      ],
      "source": [
        "ar"
      ]
    },
    {
      "cell_type": "code",
      "execution_count": 11,
      "id": "db496e6d",
      "metadata": {
        "colab": {
          "base_uri": "https://localhost:8080/"
        },
        "id": "db496e6d",
        "outputId": "545b04d8-444e-4d63-9d47-d1ca29cde42c"
      },
      "outputs": [
        {
          "output_type": "execute_result",
          "data": {
            "text/plain": [
              "array([[ 1,  5,  9, 13],\n",
              "       [ 2,  6, 10, 14],\n",
              "       [ 3,  7, 11, 15],\n",
              "       [ 4,  8, 12, 16]])"
            ]
          },
          "metadata": {},
          "execution_count": 11
        }
      ],
      "source": [
        "ar.transpose()"
      ]
    }
  ],
  "metadata": {
    "kernelspec": {
      "display_name": "Python 3 (ipykernel)",
      "language": "python",
      "name": "python3"
    },
    "language_info": {
      "codemirror_mode": {
        "name": "ipython",
        "version": 3
      },
      "file_extension": ".py",
      "mimetype": "text/x-python",
      "name": "python",
      "nbconvert_exporter": "python",
      "pygments_lexer": "ipython3",
      "version": "3.9.7"
    },
    "colab": {
      "provenance": [],
      "include_colab_link": true
    }
  },
  "nbformat": 4,
  "nbformat_minor": 5
}