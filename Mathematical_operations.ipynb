{
  "cells": [
    {
      "cell_type": "markdown",
      "metadata": {
        "id": "view-in-github",
        "colab_type": "text"
      },
      "source": [
        "<a href=\"https://colab.research.google.com/github/nitishainita/numpy_practice/blob/main/Mathematical_operations.ipynb\" target=\"_parent\"><img src=\"https://colab.research.google.com/assets/colab-badge.svg\" alt=\"Open In Colab\"/></a>"
      ]
    },
    {
      "cell_type": "markdown",
      "id": "42c0db03",
      "metadata": {
        "id": "42c0db03"
      },
      "source": [
        "### Mathematica operations using numpy"
      ]
    },
    {
      "cell_type": "code",
      "execution_count": 1,
      "id": "18ff4a19",
      "metadata": {
        "id": "18ff4a19"
      },
      "outputs": [],
      "source": [
        "import numpy as np"
      ]
    },
    {
      "cell_type": "code",
      "execution_count": 2,
      "id": "30a489e4",
      "metadata": {
        "id": "30a489e4"
      },
      "outputs": [],
      "source": [
        "arr1=np.arange(1,10).reshape(3,3)"
      ]
    },
    {
      "cell_type": "code",
      "execution_count": 3,
      "id": "ca84f120",
      "metadata": {
        "colab": {
          "base_uri": "https://localhost:8080/"
        },
        "id": "ca84f120",
        "outputId": "7bc3bbf7-44a3-4e26-98bb-669198222179"
      },
      "outputs": [
        {
          "output_type": "execute_result",
          "data": {
            "text/plain": [
              "array([[1, 2, 3],\n",
              "       [4, 5, 6],\n",
              "       [7, 8, 9]])"
            ]
          },
          "metadata": {},
          "execution_count": 3
        }
      ],
      "source": [
        "arr1"
      ]
    },
    {
      "cell_type": "code",
      "execution_count": 4,
      "id": "ac17bbeb",
      "metadata": {
        "colab": {
          "base_uri": "https://localhost:8080/"
        },
        "id": "ac17bbeb",
        "outputId": "f37373c8-e8e6-4ec0-f9a2-4f84483d3667"
      },
      "outputs": [
        {
          "output_type": "execute_result",
          "data": {
            "text/plain": [
              "array([[1, 2, 3],\n",
              "       [4, 5, 6],\n",
              "       [7, 8, 9]])"
            ]
          },
          "metadata": {},
          "execution_count": 4
        }
      ],
      "source": [
        "arr2=np.arange(1,10).reshape(3,3)\n",
        "arr2"
      ]
    },
    {
      "cell_type": "code",
      "execution_count": 5,
      "id": "19f8fd9b",
      "metadata": {
        "colab": {
          "base_uri": "https://localhost:8080/"
        },
        "id": "19f8fd9b",
        "outputId": "b6b81ee3-be6f-4081-c838-cc61e7ff36bd"
      },
      "outputs": [
        {
          "output_type": "execute_result",
          "data": {
            "text/plain": [
              "array([[ 2,  4,  6],\n",
              "       [ 8, 10, 12],\n",
              "       [14, 16, 18]])"
            ]
          },
          "metadata": {},
          "execution_count": 5
        }
      ],
      "source": [
        "arr1+arr2"
      ]
    },
    {
      "cell_type": "code",
      "execution_count": 6,
      "id": "843f2efe",
      "metadata": {
        "colab": {
          "base_uri": "https://localhost:8080/"
        },
        "id": "843f2efe",
        "outputId": "2bb4c8ac-8671-4bba-a609-bbecca8d42ee"
      },
      "outputs": [
        {
          "output_type": "execute_result",
          "data": {
            "text/plain": [
              "array([[ 2,  4,  6],\n",
              "       [ 8, 10, 12],\n",
              "       [14, 16, 18]])"
            ]
          },
          "metadata": {},
          "execution_count": 6
        }
      ],
      "source": [
        "np.add(arr1,arr2)"
      ]
    },
    {
      "cell_type": "code",
      "execution_count": 7,
      "id": "ba30cfc5",
      "metadata": {
        "colab": {
          "base_uri": "https://localhost:8080/"
        },
        "id": "ba30cfc5",
        "outputId": "4599bdd9-ccb9-4bd9-8951-69a7c10b6f7d"
      },
      "outputs": [
        {
          "output_type": "execute_result",
          "data": {
            "text/plain": [
              "array([[0, 0, 0],\n",
              "       [0, 0, 0],\n",
              "       [0, 0, 0]])"
            ]
          },
          "metadata": {},
          "execution_count": 7
        }
      ],
      "source": [
        "arr1-arr2"
      ]
    },
    {
      "cell_type": "code",
      "execution_count": 9,
      "id": "e1a5bc16",
      "metadata": {
        "colab": {
          "base_uri": "https://localhost:8080/"
        },
        "id": "e1a5bc16",
        "outputId": "e0f20173-0410-484b-b8ee-588b04b88813"
      },
      "outputs": [
        {
          "output_type": "execute_result",
          "data": {
            "text/plain": [
              "array([[0, 0, 0],\n",
              "       [0, 0, 0],\n",
              "       [0, 0, 0]])"
            ]
          },
          "metadata": {},
          "execution_count": 9
        }
      ],
      "source": [
        "np.subtract(arr1,arr2)"
      ]
    },
    {
      "cell_type": "code",
      "execution_count": 10,
      "id": "0a07bc78",
      "metadata": {
        "colab": {
          "base_uri": "https://localhost:8080/"
        },
        "id": "0a07bc78",
        "outputId": "bb2a80e5-c475-4224-d2b7-7aaa3b915584"
      },
      "outputs": [
        {
          "output_type": "execute_result",
          "data": {
            "text/plain": [
              "array([[1., 1., 1.],\n",
              "       [1., 1., 1.],\n",
              "       [1., 1., 1.]])"
            ]
          },
          "metadata": {},
          "execution_count": 10
        }
      ],
      "source": [
        "arr1/arr2"
      ]
    },
    {
      "cell_type": "code",
      "execution_count": 11,
      "id": "47c29513",
      "metadata": {
        "colab": {
          "base_uri": "https://localhost:8080/"
        },
        "id": "47c29513",
        "outputId": "fdd49207-c3ac-4841-b9ac-9362a7c7c01f"
      },
      "outputs": [
        {
          "output_type": "execute_result",
          "data": {
            "text/plain": [
              "array([[1., 1., 1.],\n",
              "       [1., 1., 1.],\n",
              "       [1., 1., 1.]])"
            ]
          },
          "metadata": {},
          "execution_count": 11
        }
      ],
      "source": [
        "np.divide(arr1,arr2)"
      ]
    },
    {
      "cell_type": "code",
      "execution_count": 12,
      "id": "bab789a8",
      "metadata": {
        "colab": {
          "base_uri": "https://localhost:8080/"
        },
        "id": "bab789a8",
        "outputId": "4abda522-6582-45b6-81e8-65f7b8bec7d3"
      },
      "outputs": [
        {
          "output_type": "execute_result",
          "data": {
            "text/plain": [
              "array([[ 1,  4,  9],\n",
              "       [16, 25, 36],\n",
              "       [49, 64, 81]])"
            ]
          },
          "metadata": {},
          "execution_count": 12
        }
      ],
      "source": [
        "arr1*arr2"
      ]
    },
    {
      "cell_type": "code",
      "execution_count": 13,
      "id": "8372509e",
      "metadata": {
        "colab": {
          "base_uri": "https://localhost:8080/"
        },
        "id": "8372509e",
        "outputId": "39dfdf03-1259-4d17-8237-629bc11edec7"
      },
      "outputs": [
        {
          "output_type": "execute_result",
          "data": {
            "text/plain": [
              "array([[ 1,  4,  9],\n",
              "       [16, 25, 36],\n",
              "       [49, 64, 81]])"
            ]
          },
          "metadata": {},
          "execution_count": 13
        }
      ],
      "source": [
        "np.multiply(arr1,arr2)"
      ]
    },
    {
      "cell_type": "code",
      "execution_count": 14,
      "id": "69909b0d",
      "metadata": {
        "colab": {
          "base_uri": "https://localhost:8080/"
        },
        "id": "69909b0d",
        "outputId": "3cfb5e64-fbbc-4433-a83b-f9b2398e9c66"
      },
      "outputs": [
        {
          "output_type": "execute_result",
          "data": {
            "text/plain": [
              "array([[ 30,  36,  42],\n",
              "       [ 66,  81,  96],\n",
              "       [102, 126, 150]])"
            ]
          },
          "metadata": {},
          "execution_count": 14
        }
      ],
      "source": [
        "arr1@arr2"
      ]
    },
    {
      "cell_type": "code",
      "execution_count": 15,
      "id": "c8cb8810",
      "metadata": {
        "colab": {
          "base_uri": "https://localhost:8080/"
        },
        "id": "c8cb8810",
        "outputId": "f0daea03-7237-4dfa-ba38-9db40b763f22"
      },
      "outputs": [
        {
          "output_type": "execute_result",
          "data": {
            "text/plain": [
              "array([[ 30,  36,  42],\n",
              "       [ 66,  81,  96],\n",
              "       [102, 126, 150]])"
            ]
          },
          "metadata": {},
          "execution_count": 15
        }
      ],
      "source": [
        "arr1.dot(arr2)"
      ]
    },
    {
      "cell_type": "code",
      "execution_count": 16,
      "id": "d61e2a11",
      "metadata": {
        "colab": {
          "base_uri": "https://localhost:8080/"
        },
        "id": "d61e2a11",
        "outputId": "c60858a5-47c1-4e6b-bfae-18b50097e7ce"
      },
      "outputs": [
        {
          "output_type": "execute_result",
          "data": {
            "text/plain": [
              "array([[1, 2, 3],\n",
              "       [4, 5, 6],\n",
              "       [7, 8, 9]])"
            ]
          },
          "metadata": {},
          "execution_count": 16
        }
      ],
      "source": [
        "arr1"
      ]
    },
    {
      "cell_type": "markdown",
      "id": "9ce7b826",
      "metadata": {
        "id": "9ce7b826"
      },
      "source": [
        "### For Checking the maximum value in an array"
      ]
    },
    {
      "cell_type": "code",
      "execution_count": 17,
      "id": "0fa93bb5",
      "metadata": {
        "colab": {
          "base_uri": "https://localhost:8080/"
        },
        "id": "0fa93bb5",
        "outputId": "00865913-c3a0-400d-d142-0fd3df1babe8"
      },
      "outputs": [
        {
          "output_type": "execute_result",
          "data": {
            "text/plain": [
              "9"
            ]
          },
          "metadata": {},
          "execution_count": 17
        }
      ],
      "source": [
        "arr1.max()"
      ]
    },
    {
      "cell_type": "code",
      "execution_count": 18,
      "id": "97178567",
      "metadata": {
        "colab": {
          "base_uri": "https://localhost:8080/"
        },
        "id": "97178567",
        "outputId": "baf9da78-3647-4c93-c4fc-972c88627d6d"
      },
      "outputs": [
        {
          "output_type": "execute_result",
          "data": {
            "text/plain": [
              "8"
            ]
          },
          "metadata": {},
          "execution_count": 18
        }
      ],
      "source": [
        "arr1.argmax()"
      ]
    },
    {
      "cell_type": "markdown",
      "id": "57724019",
      "metadata": {
        "id": "57724019"
      },
      "source": [
        "### For Checking the maximum value in each colomn of an array"
      ]
    },
    {
      "cell_type": "code",
      "execution_count": 19,
      "id": "f7627bcc",
      "metadata": {
        "colab": {
          "base_uri": "https://localhost:8080/"
        },
        "id": "f7627bcc",
        "outputId": "dac17789-5d3e-46cc-dbc0-57ca86f1b0ca"
      },
      "outputs": [
        {
          "output_type": "execute_result",
          "data": {
            "text/plain": [
              "array([7, 8, 9])"
            ]
          },
          "metadata": {},
          "execution_count": 19
        }
      ],
      "source": [
        "arr1.max(axis = 0)"
      ]
    },
    {
      "cell_type": "markdown",
      "id": "d9c7d0f1",
      "metadata": {
        "id": "d9c7d0f1"
      },
      "source": [
        "### for max in Row"
      ]
    },
    {
      "cell_type": "code",
      "execution_count": 20,
      "id": "d1f3d21b",
      "metadata": {
        "colab": {
          "base_uri": "https://localhost:8080/"
        },
        "id": "d1f3d21b",
        "outputId": "f887a801-b394-4247-a527-66612cc23e1d"
      },
      "outputs": [
        {
          "output_type": "execute_result",
          "data": {
            "text/plain": [
              "array([3, 6, 9])"
            ]
          },
          "metadata": {},
          "execution_count": 20
        }
      ],
      "source": [
        "arr1.max(axis=1)"
      ]
    },
    {
      "cell_type": "markdown",
      "id": "b64bb138",
      "metadata": {
        "id": "b64bb138"
      },
      "source": [
        "### For checking minimum value"
      ]
    },
    {
      "cell_type": "code",
      "execution_count": 21,
      "id": "2366b6b0",
      "metadata": {
        "colab": {
          "base_uri": "https://localhost:8080/"
        },
        "id": "2366b6b0",
        "outputId": "96371292-973d-40cb-aea0-de26b608ab93"
      },
      "outputs": [
        {
          "output_type": "execute_result",
          "data": {
            "text/plain": [
              "1"
            ]
          },
          "metadata": {},
          "execution_count": 21
        }
      ],
      "source": [
        "arr1.min()"
      ]
    },
    {
      "cell_type": "code",
      "execution_count": 22,
      "id": "12533ea3",
      "metadata": {
        "colab": {
          "base_uri": "https://localhost:8080/"
        },
        "id": "12533ea3",
        "outputId": "4c926d19-6ba6-4617-ad0c-18b35739cfc8"
      },
      "outputs": [
        {
          "output_type": "execute_result",
          "data": {
            "text/plain": [
              "0"
            ]
          },
          "metadata": {},
          "execution_count": 22
        }
      ],
      "source": [
        "arr1.argmin()"
      ]
    },
    {
      "cell_type": "code",
      "execution_count": 23,
      "id": "6213c0c8",
      "metadata": {
        "colab": {
          "base_uri": "https://localhost:8080/"
        },
        "id": "6213c0c8",
        "outputId": "a6095e5f-28e2-49ca-85f0-30f32f14ac30"
      },
      "outputs": [
        {
          "output_type": "execute_result",
          "data": {
            "text/plain": [
              "array([1, 2, 3])"
            ]
          },
          "metadata": {},
          "execution_count": 23
        }
      ],
      "source": [
        "arr1.min(axis=0)"
      ]
    },
    {
      "cell_type": "code",
      "execution_count": 24,
      "id": "e6955a16",
      "metadata": {
        "colab": {
          "base_uri": "https://localhost:8080/"
        },
        "id": "e6955a16",
        "outputId": "bc637522-19fd-4dd0-d48b-f37cc91ca969"
      },
      "outputs": [
        {
          "output_type": "execute_result",
          "data": {
            "text/plain": [
              "array([1, 4, 7])"
            ]
          },
          "metadata": {},
          "execution_count": 24
        }
      ],
      "source": [
        "arr1.min(axis=1)"
      ]
    },
    {
      "cell_type": "markdown",
      "id": "70e7bb95",
      "metadata": {
        "id": "70e7bb95"
      },
      "source": [
        "### just for fun"
      ]
    },
    {
      "cell_type": "code",
      "execution_count": 25,
      "id": "0db5baf2",
      "metadata": {
        "colab": {
          "base_uri": "https://localhost:8080/",
          "height": 287
        },
        "id": "0db5baf2",
        "outputId": "f711a9c9-ce8a-4dc9-cf3b-edfe78a48792"
      },
      "outputs": [
        {
          "output_type": "error",
          "ename": "AxisError",
          "evalue": "ignored",
          "traceback": [
            "\u001b[0;31m---------------------------------------------------------------------------\u001b[0m",
            "\u001b[0;31mAxisError\u001b[0m                                 Traceback (most recent call last)",
            "\u001b[0;32m<ipython-input-25-fc416ff5c1fd>\u001b[0m in \u001b[0;36m<module>\u001b[0;34m\u001b[0m\n\u001b[0;32m----> 1\u001b[0;31m \u001b[0marr1\u001b[0m\u001b[0;34m.\u001b[0m\u001b[0mmin\u001b[0m\u001b[0;34m(\u001b[0m\u001b[0maxis\u001b[0m\u001b[0;34m=\u001b[0m\u001b[0;36m2\u001b[0m\u001b[0;34m)\u001b[0m\u001b[0;34m\u001b[0m\u001b[0;34m\u001b[0m\u001b[0m\n\u001b[0m",
            "\u001b[0;32m/usr/local/lib/python3.7/dist-packages/numpy/core/_methods.py\u001b[0m in \u001b[0;36m_amin\u001b[0;34m(a, axis, out, keepdims, initial, where)\u001b[0m\n\u001b[1;32m     42\u001b[0m def _amin(a, axis=None, out=None, keepdims=False,\n\u001b[1;32m     43\u001b[0m           initial=_NoValue, where=True):\n\u001b[0;32m---> 44\u001b[0;31m     \u001b[0;32mreturn\u001b[0m \u001b[0mumr_minimum\u001b[0m\u001b[0;34m(\u001b[0m\u001b[0ma\u001b[0m\u001b[0;34m,\u001b[0m \u001b[0maxis\u001b[0m\u001b[0;34m,\u001b[0m \u001b[0;32mNone\u001b[0m\u001b[0;34m,\u001b[0m \u001b[0mout\u001b[0m\u001b[0;34m,\u001b[0m \u001b[0mkeepdims\u001b[0m\u001b[0;34m,\u001b[0m \u001b[0minitial\u001b[0m\u001b[0;34m,\u001b[0m \u001b[0mwhere\u001b[0m\u001b[0;34m)\u001b[0m\u001b[0;34m\u001b[0m\u001b[0;34m\u001b[0m\u001b[0m\n\u001b[0m\u001b[1;32m     45\u001b[0m \u001b[0;34m\u001b[0m\u001b[0m\n\u001b[1;32m     46\u001b[0m def _sum(a, axis=None, dtype=None, out=None, keepdims=False,\n",
            "\u001b[0;31mAxisError\u001b[0m: axis 2 is out of bounds for array of dimension 2"
          ]
        }
      ],
      "source": [
        "arr1.min(axis=2)"
      ]
    },
    {
      "cell_type": "code",
      "execution_count": null,
      "id": "badad349",
      "metadata": {
        "id": "badad349"
      },
      "outputs": [],
      "source": [
        "np.sum(arr1)"
      ]
    },
    {
      "cell_type": "code",
      "execution_count": 26,
      "id": "860e92d7",
      "metadata": {
        "colab": {
          "base_uri": "https://localhost:8080/"
        },
        "id": "860e92d7",
        "outputId": "1bb0e445-4d80-44a0-c277-0027cc63de96"
      },
      "outputs": [
        {
          "output_type": "execute_result",
          "data": {
            "text/plain": [
              "array([12, 15, 18])"
            ]
          },
          "metadata": {},
          "execution_count": 26
        }
      ],
      "source": [
        "np.sum(arr1,axis=0)"
      ]
    },
    {
      "cell_type": "code",
      "execution_count": 27,
      "id": "6ca7137d",
      "metadata": {
        "colab": {
          "base_uri": "https://localhost:8080/"
        },
        "id": "6ca7137d",
        "outputId": "86dd9437-748b-48c4-de77-1a241d377c9a"
      },
      "outputs": [
        {
          "output_type": "execute_result",
          "data": {
            "text/plain": [
              "array([ 6, 15, 24])"
            ]
          },
          "metadata": {},
          "execution_count": 27
        }
      ],
      "source": [
        "np.sum(arr1,axis=1)"
      ]
    },
    {
      "cell_type": "markdown",
      "id": "75632ede",
      "metadata": {
        "id": "75632ede"
      },
      "source": [
        "### for mean in array"
      ]
    },
    {
      "cell_type": "code",
      "execution_count": 28,
      "id": "209a3070",
      "metadata": {
        "colab": {
          "base_uri": "https://localhost:8080/"
        },
        "id": "209a3070",
        "outputId": "e1b4534c-f4fc-4439-973f-0006ca4658a4"
      },
      "outputs": [
        {
          "output_type": "execute_result",
          "data": {
            "text/plain": [
              "5.0"
            ]
          },
          "metadata": {},
          "execution_count": 28
        }
      ],
      "source": [
        "np.mean(arr1)"
      ]
    },
    {
      "cell_type": "markdown",
      "id": "c4eb1a0b",
      "metadata": {
        "id": "c4eb1a0b"
      },
      "source": [
        "\n",
        "### for standerd deviation of array"
      ]
    },
    {
      "cell_type": "code",
      "execution_count": 29,
      "id": "15410861",
      "metadata": {
        "colab": {
          "base_uri": "https://localhost:8080/"
        },
        "id": "15410861",
        "outputId": "fd66f940-67f0-4d16-b9e0-fd25a4a44a57"
      },
      "outputs": [
        {
          "output_type": "execute_result",
          "data": {
            "text/plain": [
              "2.581988897471611"
            ]
          },
          "metadata": {},
          "execution_count": 29
        }
      ],
      "source": [
        "np.std(arr1)"
      ]
    },
    {
      "cell_type": "markdown",
      "id": "1b514e2c",
      "metadata": {
        "id": "1b514e2c"
      },
      "source": [
        "### for exponent"
      ]
    },
    {
      "cell_type": "code",
      "execution_count": 30,
      "id": "dcc1e493",
      "metadata": {
        "colab": {
          "base_uri": "https://localhost:8080/"
        },
        "id": "dcc1e493",
        "outputId": "00749671-4190-4a6b-cc10-c1a2d81384c5"
      },
      "outputs": [
        {
          "output_type": "execute_result",
          "data": {
            "text/plain": [
              "array([[2.71828183e+00, 7.38905610e+00, 2.00855369e+01],\n",
              "       [5.45981500e+01, 1.48413159e+02, 4.03428793e+02],\n",
              "       [1.09663316e+03, 2.98095799e+03, 8.10308393e+03]])"
            ]
          },
          "metadata": {},
          "execution_count": 30
        }
      ],
      "source": [
        "np.exp(arr1)"
      ]
    },
    {
      "cell_type": "markdown",
      "id": "3a6776f2",
      "metadata": {
        "id": "3a6776f2"
      },
      "source": [
        "### for Natural logrithms"
      ]
    },
    {
      "cell_type": "code",
      "execution_count": 31,
      "id": "0889bb8d",
      "metadata": {
        "colab": {
          "base_uri": "https://localhost:8080/"
        },
        "id": "0889bb8d",
        "outputId": "d5e78979-9c77-4909-c1a8-f25621a37cbd"
      },
      "outputs": [
        {
          "output_type": "execute_result",
          "data": {
            "text/plain": [
              "array([[0.        , 0.69314718, 1.09861229],\n",
              "       [1.38629436, 1.60943791, 1.79175947],\n",
              "       [1.94591015, 2.07944154, 2.19722458]])"
            ]
          },
          "metadata": {},
          "execution_count": 31
        }
      ],
      "source": [
        "np.log(arr1)"
      ]
    },
    {
      "cell_type": "markdown",
      "id": "ae6986af",
      "metadata": {
        "id": "ae6986af"
      },
      "source": [
        "### for log base 10"
      ]
    },
    {
      "cell_type": "code",
      "execution_count": 32,
      "id": "189fc3c7",
      "metadata": {
        "colab": {
          "base_uri": "https://localhost:8080/"
        },
        "id": "189fc3c7",
        "outputId": "159e8c79-1a12-478e-d67f-9eaf237f9546"
      },
      "outputs": [
        {
          "output_type": "execute_result",
          "data": {
            "text/plain": [
              "array([[0.        , 0.30103   , 0.47712125],\n",
              "       [0.60205999, 0.69897   , 0.77815125],\n",
              "       [0.84509804, 0.90308999, 0.95424251]])"
            ]
          },
          "metadata": {},
          "execution_count": 32
        }
      ],
      "source": [
        "np.log10(arr1)"
      ]
    },
    {
      "cell_type": "code",
      "execution_count": 32,
      "id": "c1247a01",
      "metadata": {
        "id": "c1247a01"
      },
      "outputs": [],
      "source": []
    }
  ],
  "metadata": {
    "kernelspec": {
      "display_name": "Python 3 (ipykernel)",
      "language": "python",
      "name": "python3"
    },
    "language_info": {
      "codemirror_mode": {
        "name": "ipython",
        "version": 3
      },
      "file_extension": ".py",
      "mimetype": "text/x-python",
      "name": "python",
      "nbconvert_exporter": "python",
      "pygments_lexer": "ipython3",
      "version": "3.9.7"
    },
    "colab": {
      "provenance": [],
      "include_colab_link": true
    }
  },
  "nbformat": 4,
  "nbformat_minor": 5
}