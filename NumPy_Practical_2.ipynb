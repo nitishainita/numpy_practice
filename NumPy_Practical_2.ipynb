{
  "cells": [
    {
      "cell_type": "markdown",
      "metadata": {
        "id": "view-in-github",
        "colab_type": "text"
      },
      "source": [
        "<a href=\"https://colab.research.google.com/github/nitishainita/numpy_practice/blob/main/NumPy_Practical_2.ipynb\" target=\"_parent\"><img src=\"https://colab.research.google.com/assets/colab-badge.svg\" alt=\"Open In Colab\"/></a>"
      ]
    },
    {
      "cell_type": "code",
      "execution_count": 1,
      "id": "63de0d6b",
      "metadata": {
        "id": "63de0d6b"
      },
      "outputs": [],
      "source": [
        "import numpy as np"
      ]
    },
    {
      "cell_type": "code",
      "execution_count": 2,
      "id": "1d7af8b9",
      "metadata": {
        "colab": {
          "base_uri": "https://localhost:8080/"
        },
        "id": "1d7af8b9",
        "outputId": "f21ca8ea-f3d7-41ee-e481-390dc85ed070"
      },
      "outputs": [
        {
          "output_type": "stream",
          "name": "stdout",
          "text": [
            "[[1 1 1]\n",
            " [1 1 1]\n",
            " [1 1 1]]\n"
          ]
        }
      ],
      "source": [
        "mx_1s=np.array([[1,1,1], [1,1,1], [1,1,1]])\n",
        "print(mx_1s)"
      ]
    },
    {
      "cell_type": "code",
      "execution_count": 3,
      "id": "0bd6d94c",
      "metadata": {
        "colab": {
          "base_uri": "https://localhost:8080/"
        },
        "id": "0bd6d94c",
        "outputId": "2e468a01-2f63-4f48-f099-cf9ecfacf1bd"
      },
      "outputs": [
        {
          "output_type": "stream",
          "name": "stdout",
          "text": [
            "[1. 1. 1. 1. 1.]\n"
          ]
        }
      ],
      "source": [
        "ms_1s=np.ones(5)\n",
        "print(ms_1s)"
      ]
    },
    {
      "cell_type": "code",
      "execution_count": 4,
      "id": "93bcc221",
      "metadata": {
        "colab": {
          "base_uri": "https://localhost:8080/"
        },
        "id": "93bcc221",
        "outputId": "db64693d-8131-4ac0-b5d7-241296802323"
      },
      "outputs": [
        {
          "output_type": "execute_result",
          "data": {
            "text/plain": [
              "dtype('float64')"
            ]
          },
          "metadata": {},
          "execution_count": 4
        }
      ],
      "source": [
        "ms_1s.dtype"
      ]
    },
    {
      "cell_type": "code",
      "execution_count": 5,
      "id": "d72fbeb2",
      "metadata": {
        "colab": {
          "base_uri": "https://localhost:8080/"
        },
        "id": "d72fbeb2",
        "outputId": "866550d5-0eb8-4056-c245-244f2abaa116"
      },
      "outputs": [
        {
          "output_type": "stream",
          "name": "stdout",
          "text": [
            "[[1. 1. 1. 1.]\n",
            " [1. 1. 1. 1.]\n",
            " [1. 1. 1. 1.]]\n"
          ]
        }
      ],
      "source": [
        "mx_1s=np.ones((3,4))\n",
        "print(mx_1s)"
      ]
    },
    {
      "cell_type": "code",
      "execution_count": 6,
      "id": "ac4fca95",
      "metadata": {
        "colab": {
          "base_uri": "https://localhost:8080/"
        },
        "id": "ac4fca95",
        "outputId": "b12fad0c-f258-44c1-c089-37c722cc3f0e"
      },
      "outputs": [
        {
          "output_type": "stream",
          "name": "stdout",
          "text": [
            "[[1 1 1 1]\n",
            " [1 1 1 1]\n",
            " [1 1 1 1]]\n"
          ]
        }
      ],
      "source": [
        "mx_1s=np.ones((3,4),dtype=int)\n",
        "print(mx_1s)"
      ]
    },
    {
      "cell_type": "code",
      "execution_count": 7,
      "id": "925cb1dd",
      "metadata": {
        "colab": {
          "base_uri": "https://localhost:8080/"
        },
        "id": "925cb1dd",
        "outputId": "cfa0bcbc-e368-4a54-82cc-3d72364e4713"
      },
      "outputs": [
        {
          "output_type": "stream",
          "name": "stdout",
          "text": [
            "[[0. 0. 0. 0.]\n",
            " [0. 0. 0. 0.]\n",
            " [0. 0. 0. 0.]]\n"
          ]
        }
      ],
      "source": [
        "mx_0s=np.zeros((3,4))\n",
        "print(mx_0s)"
      ]
    },
    {
      "cell_type": "code",
      "execution_count": 8,
      "id": "3e54a416",
      "metadata": {
        "colab": {
          "base_uri": "https://localhost:8080/"
        },
        "id": "3e54a416",
        "outputId": "f917ae07-e64d-49d9-9091-d877b7775654"
      },
      "outputs": [
        {
          "output_type": "stream",
          "name": "stdout",
          "text": [
            "[['' '' '' '']\n",
            " ['' '' '' '']\n",
            " ['' '' '' '']]\n"
          ]
        }
      ],
      "source": [
        "mx_0s=np.zeros((3,4),dtype=str)\n",
        "print(mx_0s)"
      ]
    },
    {
      "cell_type": "code",
      "execution_count": 9,
      "id": "c8389d84",
      "metadata": {
        "colab": {
          "base_uri": "https://localhost:8080/"
        },
        "id": "c8389d84",
        "outputId": "9b7d41c8-c22b-428e-a28e-05eb261f2b7e"
      },
      "outputs": [
        {
          "output_type": "stream",
          "name": "stdout",
          "text": [
            "[[False False False False]\n",
            " [False False False False]\n",
            " [False False False False]]\n"
          ]
        }
      ],
      "source": [
        "mx_0s=np.zeros((3,4),dtype=bool)\n",
        "print(mx_0s)"
      ]
    },
    {
      "cell_type": "code",
      "execution_count": 10,
      "id": "5f4c6493",
      "metadata": {
        "colab": {
          "base_uri": "https://localhost:8080/"
        },
        "id": "5f4c6493",
        "outputId": "4312049a-7b7e-4b27-fb7d-5c6b21dbe98a"
      },
      "outputs": [
        {
          "output_type": "stream",
          "name": "stdout",
          "text": [
            "[[5.e-324 5.e-324 5.e-324]\n",
            " [5.e-324 5.e-324 5.e-324]\n",
            " [5.e-324 5.e-324 5.e-324]]\n"
          ]
        }
      ],
      "source": [
        "mx_emp=np.empty((3,3))\n",
        "print(mx_emp)"
      ]
    },
    {
      "cell_type": "code",
      "execution_count": null,
      "id": "9e8e823a",
      "metadata": {
        "id": "9e8e823a"
      },
      "outputs": [],
      "source": []
    }
  ],
  "metadata": {
    "kernelspec": {
      "display_name": "Python 3 (ipykernel)",
      "language": "python",
      "name": "python3"
    },
    "language_info": {
      "codemirror_mode": {
        "name": "ipython",
        "version": 3
      },
      "file_extension": ".py",
      "mimetype": "text/x-python",
      "name": "python",
      "nbconvert_exporter": "python",
      "pygments_lexer": "ipython3",
      "version": "3.9.7"
    },
    "colab": {
      "provenance": [],
      "include_colab_link": true
    }
  },
  "nbformat": 4,
  "nbformat_minor": 5
}